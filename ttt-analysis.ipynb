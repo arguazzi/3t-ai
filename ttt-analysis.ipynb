{
 "cells": [
  {
   "cell_type": "code",
   "execution_count": 1,
   "metadata": {},
   "outputs": [],
   "source": [
    "import numpy as np\n",
    "import random\n",
    "\n",
    "from ttt import TicTacToe\n",
    "\n",
    "from AgentHuman import AgentHuman\n",
    "from AgentRandom import AgentRandom\n",
    "from AgentBlockWin import AgentBlockWin\n",
    "from AgentExploreQ import AgentExploreQ"
   ]
  },
  {
   "cell_type": "markdown",
   "metadata": {},
   "source": [
    "### Random vs random"
   ]
  },
  {
   "cell_type": "code",
   "execution_count": 2,
   "metadata": {},
   "outputs": [
    {
     "name": "stdout",
     "output_type": "stream",
     "text": [
      "Wins, o: 60%\n",
      "Wins, x: 26%\n",
      "Draws: 12%\n"
     ]
    }
   ],
   "source": [
    "n = 1000\n",
    "\n",
    "tictactoe = TicTacToe(board_size=3, win_len=3)\n",
    "aio = AgentRandom()\n",
    "aix = AgentRandom()\n",
    "\n",
    "o_win = 0\n",
    "x_win = 0\n",
    "draws = 0\n",
    "\n",
    "for i in range(n):\n",
    "    w = tictactoe.play(aio=aio, aix=aix, gui_on=False)\n",
    "    if w == 1:\n",
    "        x_win += 1\n",
    "    elif w == -1:\n",
    "        o_win += 1\n",
    "    elif w == -2:\n",
    "        draws += 1\n",
    "    else:\n",
    "        print('Error!')\n",
    "\n",
    "total = o_win + x_win + draws\n",
    "print(\"Wins, o: {}%\".format(100*o_win/total))\n",
    "print(\"Wins, x: {}%\".format(100*x_win/total))\n",
    "print(\"Draws: {}%\".format(100*draws/total))"
   ]
  },
  {
   "cell_type": "markdown",
   "metadata": {},
   "source": [
    "### Random vs sem-deterministic"
   ]
  },
  {
   "cell_type": "code",
   "execution_count": 3,
   "metadata": {},
   "outputs": [
    {
     "name": "stdout",
     "output_type": "stream",
     "text": [
      "Wins, o (random): 17%\n",
      "Wins, x (semi-det): 60%\n",
      "Draws: 22%\n"
     ]
    }
   ],
   "source": [
    "n = 1000\n",
    "\n",
    "tictactoe = TicTacToe(board_size=3, win_len=3)\n",
    "aio = AgentRandom()\n",
    "aix = AgentBlockWin()\n",
    "\n",
    "o_win = 0\n",
    "x_win = 0\n",
    "draws = 0\n",
    "\n",
    "for i in range(n):\n",
    "    w = tictactoe.play(aio=aio, aix=aix, gui_on=False)\n",
    "    if w == 1:\n",
    "        x_win += 1\n",
    "    elif w == -1:\n",
    "        o_win += 1\n",
    "    elif w == -2:\n",
    "        draws += 1\n",
    "    else:\n",
    "        print('Error!')\n",
    "\n",
    "total = o_win + x_win + draws\n",
    "print(\"Wins, o (random): {}%\".format(100*o_win/total))\n",
    "print(\"Wins, x (semi-det): {}%\".format(100*x_win/total))\n",
    "print(\"Draws: {}%\".format(100*draws/total))"
   ]
  },
  {
   "cell_type": "code",
   "execution_count": 4,
   "metadata": {},
   "outputs": [
    {
     "name": "stdout",
     "output_type": "stream",
     "text": [
      "Wins, o (semi-det): 85%\n",
      "Wins, x (random): 4%\n",
      "Draws: 10%\n"
     ]
    }
   ],
   "source": [
    "n = 1000\n",
    "\n",
    "tictactoe = TicTacToe(board_size=3, win_len=3)\n",
    "aio = AgentBlockWin()\n",
    "aix = AgentRandom()\n",
    "\n",
    "o_win = 0\n",
    "x_win = 0\n",
    "draws = 0\n",
    "\n",
    "for i in range(n):\n",
    "    w = tictactoe.play(aio=aio, aix=aix, gui_on=False)\n",
    "    if w == 1:\n",
    "        x_win += 1\n",
    "    elif w == -1:\n",
    "        o_win += 1\n",
    "    elif w == -2:\n",
    "        draws += 1\n",
    "    else:\n",
    "        print('Error!')\n",
    "\n",
    "total = o_win + x_win + draws\n",
    "print(\"Wins, o (semi-det): {}%\".format(100*o_win/total))\n",
    "print(\"Wins, x (random): {}%\".format(100*x_win/total))\n",
    "print(\"Draws: {}%\".format(100*draws/total))"
   ]
  },
  {
   "cell_type": "markdown",
   "metadata": {},
   "source": [
    "### Train RL with itself"
   ]
  },
  {
   "cell_type": "code",
   "execution_count": 5,
   "metadata": {},
   "outputs": [
    {
     "name": "stdout",
     "output_type": "stream",
     "text": [
      "File not available. Starting from the beginning.\n",
      "File not available. Starting from the beginning.\n"
     ]
    }
   ],
   "source": [
    "n = 1000\n",
    "\n",
    "tictactoe = TicTacToe(board_size=3, win_len=3)\n",
    "aio = AgentExploreQ(policy_file=\"policy_rl_o\", train_prefix=\"rl\")\n",
    "aix = AgentExploreQ(policy_file=\"policy_rl_x\", train_prefix=\"rl\")\n",
    "tictactoe.train(aio=aio, aix=aix, turns=n)"
   ]
  },
  {
   "cell_type": "markdown",
   "metadata": {},
   "source": [
    "#### RL vs random"
   ]
  },
  {
   "cell_type": "code",
   "execution_count": 6,
   "metadata": {},
   "outputs": [
    {
     "name": "stdout",
     "output_type": "stream",
     "text": [
      "Wins, o (random): 28%\n",
      "Wins, x (RL): 56%\n",
      "Draws: 15%\n"
     ]
    }
   ],
   "source": [
    "n = 1000\n",
    "\n",
    "tictactoe = TicTacToe(board_size=3, win_len=3)\n",
    "aio = AgentRandom()\n",
    "aix = AgentExploreQ(policy_file=\"policy_rl_x\", train_prefix=None, exp_rate=0.0)\n",
    "\n",
    "o_win = 0\n",
    "x_win = 0\n",
    "draws = 0\n",
    "\n",
    "for i in range(n):\n",
    "    w = tictactoe.play(aio=aio, aix=aix, gui_on=False)\n",
    "    if w == 1:\n",
    "        x_win += 1\n",
    "    elif w == -1:\n",
    "        o_win += 1\n",
    "    elif w == -2:\n",
    "        draws += 1\n",
    "    else:\n",
    "        print('Error!')\n",
    "\n",
    "total = o_win + x_win + draws\n",
    "print(\"Wins, o (random): {}%\".format(100*o_win/total))\n",
    "print(\"Wins, x (RL): {}%\".format(100*x_win/total))\n",
    "print(\"Draws: {}%\".format(100*draws/total))"
   ]
  },
  {
   "cell_type": "code",
   "execution_count": 7,
   "metadata": {},
   "outputs": [
    {
     "name": "stdout",
     "output_type": "stream",
     "text": [
      "Wins, o (RL): 76%\n",
      "Wins, x (random): 15%\n",
      "Draws: 8%\n"
     ]
    }
   ],
   "source": [
    "n = 1000\n",
    "\n",
    "tictactoe = TicTacToe(board_size=3, win_len=3)\n",
    "aix = AgentRandom()\n",
    "aio = AgentExploreQ(policy_file=\"policy_rl_o\", train_prefix=None, exp_rate=0.0)\n",
    "\n",
    "o_win = 0\n",
    "x_win = 0\n",
    "draws = 0\n",
    "\n",
    "for i in range(n):\n",
    "    w = tictactoe.play(aio=aio, aix=aix, gui_on=False)\n",
    "    if w == 1:\n",
    "        x_win += 1\n",
    "    elif w == -1:\n",
    "        o_win += 1\n",
    "    elif w == -2:\n",
    "        draws += 1\n",
    "    else:\n",
    "        print('Error!')\n",
    "\n",
    "total = o_win + x_win + draws\n",
    "print(\"Wins, o (RL): {}%\".format(100*o_win/total))\n",
    "print(\"Wins, x (random): {}%\".format(100*x_win/total))\n",
    "print(\"Draws: {}%\".format(100*draws/total))"
   ]
  },
  {
   "cell_type": "markdown",
   "metadata": {},
   "source": [
    "### Train against semi-deterministic"
   ]
  },
  {
   "cell_type": "code",
   "execution_count": 8,
   "metadata": {},
   "outputs": [
    {
     "name": "stdout",
     "output_type": "stream",
     "text": [
      "File not available. Starting from the beginning.\n"
     ]
    }
   ],
   "source": [
    "n = 3000\n",
    "\n",
    "tictactoe = TicTacToe(board_size=3, win_len=3)\n",
    "aio = AgentExploreQ(policy_file=\"policy_semidem_o\", train_prefix='semidem')\n",
    "aix = AgentBlockWin()\n",
    "tictactoe.train(aio=aio, aix=aix, turns=n)"
   ]
  },
  {
   "cell_type": "code",
   "execution_count": 9,
   "metadata": {},
   "outputs": [
    {
     "name": "stdout",
     "output_type": "stream",
     "text": [
      "Wins, o (RL): 83%\n",
      "Wins, x (random): 5%\n",
      "Draws: 11%\n"
     ]
    }
   ],
   "source": [
    "n = 1000\n",
    "\n",
    "tictactoe = TicTacToe(board_size=3, win_len=3)\n",
    "aio = AgentExploreQ(policy_file=\"policy_semidem_o\", exp_rate=0.0)\n",
    "aix = AgentRandom()\n",
    "\n",
    "o_win = 0\n",
    "x_win = 0\n",
    "draws = 0\n",
    "\n",
    "for i in range(n):\n",
    "    w = tictactoe.play(aio=aio, aix=aix, gui_on=False)\n",
    "    if w == 1:\n",
    "        x_win += 1\n",
    "    elif w == -1:\n",
    "        o_win += 1\n",
    "    elif w == -2:\n",
    "        draws += 1\n",
    "    else:\n",
    "        print('Error!')\n",
    "\n",
    "total = o_win + x_win + draws\n",
    "print(\"Wins, o (RL): {}%\".format(100*o_win/total))\n",
    "print(\"Wins, x (random): {}%\".format(100*x_win/total))\n",
    "print(\"Draws: {}%\".format(100*draws/total))"
   ]
  },
  {
   "cell_type": "code",
   "execution_count": 10,
   "metadata": {},
   "outputs": [
    {
     "name": "stdout",
     "output_type": "stream",
     "text": [
      "File not available. Starting from the beginning.\n"
     ]
    }
   ],
   "source": [
    "n = 3000\n",
    "\n",
    "tictactoe = TicTacToe(board_size=3, win_len=3)\n",
    "aix = AgentExploreQ(policy_file=\"policy_semidem_x\", train_prefix='semidem')\n",
    "aio = AgentRandom()\n",
    "tictactoe.train(aio=aio, aix=aix, turns=n)"
   ]
  },
  {
   "cell_type": "code",
   "execution_count": 11,
   "metadata": {},
   "outputs": [
    {
     "name": "stdout",
     "output_type": "stream",
     "text": [
      "Wins, o (random): 12%\n",
      "Wins, x (RL): 70%\n",
      "Draws: 17%\n"
     ]
    }
   ],
   "source": [
    "n = 1000\n",
    "\n",
    "tictactoe = TicTacToe(board_size=3, win_len=3)\n",
    "aix = AgentExploreQ(policy_file=\"policy_semidem_x\", exp_rate=0.0)\n",
    "aio = AgentRandom()\n",
    "\n",
    "o_win = 0\n",
    "x_win = 0\n",
    "draws = 0\n",
    "\n",
    "for i in range(n):\n",
    "    w = tictactoe.play(aio=aio, aix=aix, gui_on=False)\n",
    "    if w == 1:\n",
    "        x_win += 1\n",
    "    elif w == -1:\n",
    "        o_win += 1\n",
    "    elif w == -2:\n",
    "        draws += 1\n",
    "    else:\n",
    "        print('Error!')\n",
    "\n",
    "total = o_win + x_win + draws\n",
    "print(\"Wins, o (random): {}%\".format(100*o_win/total))\n",
    "print(\"Wins, x (RL): {}%\".format(100*x_win/total))\n",
    "print(\"Draws: {}%\".format(100*draws/total))"
   ]
  },
  {
   "cell_type": "markdown",
   "metadata": {},
   "source": [
    "### Train against RL for longer"
   ]
  },
  {
   "cell_type": "code",
   "execution_count": 12,
   "metadata": {},
   "outputs": [
    {
     "name": "stdout",
     "output_type": "stream",
     "text": [
      "File not available. Starting from the beginning.\n",
      "File not available. Starting from the beginning.\n"
     ]
    }
   ],
   "source": [
    "n = 3000\n",
    "\n",
    "tictactoe = TicTacToe(board_size=3, win_len=3)\n",
    "aio = AgentExploreQ(policy_file=\"policy_rl_med_o\", train_prefix=\"rl_med\")\n",
    "aix = AgentExploreQ(policy_file=\"policy_rl_med_x\", train_prefix=\"rl_med\")\n",
    "tictactoe.train(aio=aio, aix=aix, turns=n)"
   ]
  },
  {
   "cell_type": "code",
   "execution_count": 13,
   "metadata": {},
   "outputs": [
    {
     "name": "stdout",
     "output_type": "stream",
     "text": [
      "Wins, o (random): 21%\n",
      "Wins, x (RL): 61%\n",
      "Draws: 16%\n"
     ]
    }
   ],
   "source": [
    "n = 1000\n",
    "\n",
    "tictactoe = TicTacToe(board_size=3, win_len=3)\n",
    "aio = AgentRandom()\n",
    "aix = AgentExploreQ(policy_file=\"policy_rl_med_x\", train_prefix=None, exp_rate=0.0)\n",
    "\n",
    "o_win = 0\n",
    "x_win = 0\n",
    "draws = 0\n",
    "\n",
    "for i in range(n):\n",
    "    w = tictactoe.play(aio=aio, aix=aix, gui_on=False)\n",
    "    if w == 1:\n",
    "        x_win += 1\n",
    "    elif w == -1:\n",
    "        o_win += 1\n",
    "    elif w == -2:\n",
    "        draws += 1\n",
    "    else:\n",
    "        print('Error!')\n",
    "\n",
    "total = o_win + x_win + draws\n",
    "print(\"Wins, o (random): {}%\".format(100*o_win/total))\n",
    "print(\"Wins, x (RL): {}%\".format(100*x_win/total))\n",
    "print(\"Draws: {}%\".format(100*draws/total))"
   ]
  },
  {
   "cell_type": "code",
   "execution_count": 14,
   "metadata": {},
   "outputs": [
    {
     "name": "stdout",
     "output_type": "stream",
     "text": [
      "Wins, o (RL): 93%\n",
      "Wins, x (random): 1%\n",
      "Draws: 4%\n"
     ]
    }
   ],
   "source": [
    "n = 1000\n",
    "\n",
    "tictactoe = TicTacToe(board_size=3, win_len=3)\n",
    "aix = AgentRandom()\n",
    "aio = AgentExploreQ(policy_file=\"policy_rl_med_o\", train_prefix=None, exp_rate=0.0)\n",
    "\n",
    "o_win = 0\n",
    "x_win = 0\n",
    "draws = 0\n",
    "\n",
    "for i in range(n):\n",
    "    w = tictactoe.play(aio=aio, aix=aix, gui_on=False)\n",
    "    if w == 1:\n",
    "        x_win += 1\n",
    "    elif w == -1:\n",
    "        o_win += 1\n",
    "    elif w == -2:\n",
    "        draws += 1\n",
    "    else:\n",
    "        print('Error!')\n",
    "\n",
    "total = o_win + x_win + draws\n",
    "print(\"Wins, o (RL): {}%\".format(100*o_win/total))\n",
    "print(\"Wins, x (random): {}%\".format(100*x_win/total))\n",
    "print(\"Draws: {}%\".format(100*draws/total))"
   ]
  },
  {
   "cell_type": "code",
   "execution_count": 15,
   "metadata": {},
   "outputs": [
    {
     "name": "stdout",
     "output_type": "stream",
     "text": [
      "File not available. Starting from the beginning.\n",
      "File not available. Starting from the beginning.\n"
     ]
    }
   ],
   "source": [
    "n = 10000\n",
    "\n",
    "tictactoe = TicTacToe(board_size=3, win_len=3)\n",
    "aio = AgentExploreQ(policy_file=\"policy_rl_max_o\", train_prefix=\"rl_max\")\n",
    "aix = AgentExploreQ(policy_file=\"policy_rl_max_x\", train_prefix=\"rl_max\")\n",
    "tictactoe.train(aio=aio, aix=aix, turns=n)"
   ]
  },
  {
   "cell_type": "code",
   "execution_count": 16,
   "metadata": {},
   "outputs": [
    {
     "name": "stdout",
     "output_type": "stream",
     "text": [
      "Wins, o (RL): 98%\n",
      "Wins, x (random): 0%\n",
      "Draws: 1%\n"
     ]
    }
   ],
   "source": [
    "n = 1000\n",
    "\n",
    "tictactoe = TicTacToe(board_size=3, win_len=3)\n",
    "aix = AgentRandom()\n",
    "aio = AgentExploreQ(policy_file=\"policy_rl_max_o\", train_prefix=None, exp_rate=0.0)\n",
    "\n",
    "o_win = 0\n",
    "x_win = 0\n",
    "draws = 0\n",
    "\n",
    "for i in range(n):\n",
    "    w = tictactoe.play(aio=aio, aix=aix, gui_on=False)\n",
    "    if w == 1:\n",
    "        x_win += 1\n",
    "    elif w == -1:\n",
    "        o_win += 1\n",
    "    elif w == -2:\n",
    "        draws += 1\n",
    "    else:\n",
    "        print('Error!')\n",
    "\n",
    "total = o_win + x_win + draws\n",
    "print(\"Wins, o (RL): {}%\".format(100*o_win/total))\n",
    "print(\"Wins, x (random): {}%\".format(100*x_win/total))\n",
    "print(\"Draws: {}%\".format(100*draws/total))"
   ]
  },
  {
   "cell_type": "code",
   "execution_count": 17,
   "metadata": {},
   "outputs": [
    {
     "name": "stdout",
     "output_type": "stream",
     "text": [
      "Wins, o (random): 6%\n",
      "Wins, x (RL): 80%\n",
      "Draws: 13%\n"
     ]
    }
   ],
   "source": [
    "n = 1000\n",
    "\n",
    "tictactoe = TicTacToe(board_size=3, win_len=3)\n",
    "aio = AgentRandom()\n",
    "aix = AgentExploreQ(policy_file=\"policy_rl_max_x\", train_prefix=None, exp_rate=0.0)\n",
    "\n",
    "o_win = 0\n",
    "x_win = 0\n",
    "draws = 0\n",
    "\n",
    "for i in range(n):\n",
    "    w = tictactoe.play(aio=aio, aix=aix, gui_on=False)\n",
    "    if w == 1:\n",
    "        x_win += 1\n",
    "    elif w == -1:\n",
    "        o_win += 1\n",
    "    elif w == -2:\n",
    "        draws += 1\n",
    "    else:\n",
    "        print('Error!')\n",
    "\n",
    "total = o_win + x_win + draws\n",
    "print(\"Wins, o (random): {}%\".format(100*o_win/total))\n",
    "print(\"Wins, x (RL): {}%\".format(100*x_win/total))\n",
    "print(\"Draws: {}%\".format(100*draws/total))"
   ]
  }
 ],
 "metadata": {
  "kernelspec": {
   "display_name": "Python 3",
   "language": "python",
   "name": "python3"
  },
  "language_info": {
   "codemirror_mode": {
    "name": "ipython",
    "version": 2
   },
   "file_extension": ".py",
   "mimetype": "text/x-python",
   "name": "python",
   "nbconvert_exporter": "python",
   "pygments_lexer": "ipython2",
   "version": "2.7.15+"
  }
 },
 "nbformat": 4,
 "nbformat_minor": 2
}
