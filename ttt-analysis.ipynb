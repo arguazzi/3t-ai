{
 "cells": [
  {
   "cell_type": "code",
   "execution_count": 1,
   "metadata": {},
   "outputs": [],
   "source": [
    "import numpy as np\n",
    "import random\n",
    "\n",
    "from ttt import TicTacToe, TRand, tAtIt, RLttt"
   ]
  },
  {
   "cell_type": "markdown",
   "metadata": {},
   "source": [
    "### Random vs random"
   ]
  },
  {
   "cell_type": "code",
   "execution_count": 2,
   "metadata": {},
   "outputs": [
    {
     "name": "stdout",
     "output_type": "stream",
     "text": [
      "Wins, o: 58%\n",
      "Wins, x: 29%\n",
      "Draws: 12%\n"
     ]
    }
   ],
   "source": [
    "n = 5000\n",
    "\n",
    "tictactoe = TicTacToe(board_size=3, win_len=3)\n",
    "aio = TRand()\n",
    "aix = TRand()\n",
    "\n",
    "o_win = 0\n",
    "x_win = 0\n",
    "draws = 0\n",
    "\n",
    "for i in range(n):\n",
    "    w = tictactoe.play(aio=aio, aix=aix, gui_on=False)\n",
    "    if w == 1:\n",
    "        x_win += 1\n",
    "    elif w == -1:\n",
    "        o_win += 1\n",
    "    elif w == -2:\n",
    "        draws += 1\n",
    "    else:\n",
    "        print('Error!')\n",
    "\n",
    "total = o_win + x_win + draws\n",
    "print(\"Wins, o: {}%\".format(100*o_win/total))\n",
    "print(\"Wins, x: {}%\".format(100*x_win/total))\n",
    "print(\"Draws: {}%\".format(100*draws/total))"
   ]
  },
  {
   "cell_type": "markdown",
   "metadata": {},
   "source": [
    "### Random vs sem-deterministic"
   ]
  },
  {
   "cell_type": "code",
   "execution_count": 3,
   "metadata": {},
   "outputs": [
    {
     "name": "stdout",
     "output_type": "stream",
     "text": [
      "Wins, o (random): 16%\n",
      "Wins, x (semi-det): 60%\n",
      "Draws: 23%\n"
     ]
    }
   ],
   "source": [
    "n = 5000\n",
    "\n",
    "tictactoe = TicTacToe(board_size=3, win_len=3)\n",
    "aio = TRand()\n",
    "aix = tAtIt()\n",
    "\n",
    "o_win = 0\n",
    "x_win = 0\n",
    "draws = 0\n",
    "\n",
    "for i in range(n):\n",
    "    w = tictactoe.play(aio=aio, aix=aix, gui_on=False)\n",
    "    if w == 1:\n",
    "        x_win += 1\n",
    "    elif w == -1:\n",
    "        o_win += 1\n",
    "    elif w == -2:\n",
    "        draws += 1\n",
    "    else:\n",
    "        print('Error!')\n",
    "\n",
    "total = o_win + x_win + draws\n",
    "print(\"Wins, o (random): {}%\".format(100*o_win/total))\n",
    "print(\"Wins, x (semi-det): {}%\".format(100*x_win/total))\n",
    "print(\"Draws: {}%\".format(100*draws/total))"
   ]
  },
  {
   "cell_type": "code",
   "execution_count": 4,
   "metadata": {},
   "outputs": [
    {
     "name": "stdout",
     "output_type": "stream",
     "text": [
      "Wins, o (semi-det): 85%\n",
      "Wins, x (random): 4%\n",
      "Draws: 10%\n"
     ]
    }
   ],
   "source": [
    "n = 5000\n",
    "\n",
    "tictactoe = TicTacToe(board_size=3, win_len=3)\n",
    "aio = tAtIt()\n",
    "aix = TRand()\n",
    "\n",
    "o_win = 0\n",
    "x_win = 0\n",
    "draws = 0\n",
    "\n",
    "for i in range(n):\n",
    "    w = tictactoe.play(aio=aio, aix=aix, gui_on=False)\n",
    "    if w == 1:\n",
    "        x_win += 1\n",
    "    elif w == -1:\n",
    "        o_win += 1\n",
    "    elif w == -2:\n",
    "        draws += 1\n",
    "    else:\n",
    "        print('Error!')\n",
    "\n",
    "total = o_win + x_win + draws\n",
    "print(\"Wins, o (semi-det): {}%\".format(100*o_win/total))\n",
    "print(\"Wins, x (random): {}%\".format(100*x_win/total))\n",
    "print(\"Draws: {}%\".format(100*draws/total))"
   ]
  },
  {
   "cell_type": "markdown",
   "metadata": {},
   "source": [
    "### Train RL with itself"
   ]
  },
  {
   "cell_type": "code",
   "execution_count": 15,
   "metadata": {},
   "outputs": [
    {
     "name": "stdout",
     "output_type": "stream",
     "text": [
      "File not available. Starting from the beginning.\n",
      "File not available. Starting from the beginning.\n"
     ]
    }
   ],
   "source": [
    "n = 5000\n",
    "\n",
    "tictactoe = TicTacToe(board_size=3, win_len=3)\n",
    "aio = RLttt(policy_file=\"policy_o\", toggle_train=True)\n",
    "aix = RLttt(policy_file=\"policy_x\", toggle_train=True)\n",
    "tictactoe.train(aio=aio, aix=aix, turns=n)"
   ]
  },
  {
   "cell_type": "markdown",
   "metadata": {},
   "source": [
    "### RL vs random"
   ]
  },
  {
   "cell_type": "code",
   "execution_count": 16,
   "metadata": {},
   "outputs": [
    {
     "name": "stdout",
     "output_type": "stream",
     "text": [
      "Wins, o (random): 39%\n",
      "Wins, x (RL): 46%\n",
      "Draws: 13%\n"
     ]
    }
   ],
   "source": [
    "n = 5000\n",
    "\n",
    "tictactoe = TicTacToe(board_size=3, win_len=3)\n",
    "aio = TRand()\n",
    "aix = RLttt(policy_file=\"policy_x\", toggle_train=False)\n",
    "\n",
    "o_win = 0\n",
    "x_win = 0\n",
    "draws = 0\n",
    "\n",
    "for i in range(n):\n",
    "    w = tictactoe.play(aio=aio, aix=aix, gui_on=False)\n",
    "    if w == 1:\n",
    "        x_win += 1\n",
    "    elif w == -1:\n",
    "        o_win += 1\n",
    "    elif w == -2:\n",
    "        draws += 1\n",
    "    else:\n",
    "        print('Error!')\n",
    "\n",
    "total = o_win + x_win + draws\n",
    "print(\"Wins, o (random): {}%\".format(100*o_win/total))\n",
    "print(\"Wins, x (RL): {}%\".format(100*x_win/total))\n",
    "print(\"Draws: {}%\".format(100*draws/total))"
   ]
  },
  {
   "cell_type": "code",
   "execution_count": 17,
   "metadata": {},
   "outputs": [
    {
     "name": "stdout",
     "output_type": "stream",
     "text": [
      "Wins, o (RL): 70%\n",
      "Wins, x (random): 17%\n",
      "Draws: 11%\n"
     ]
    }
   ],
   "source": [
    "n = 5000\n",
    "\n",
    "tictactoe = TicTacToe(board_size=3, win_len=3)\n",
    "aix = TRand()\n",
    "aio = RLttt(policy_file=\"policy_o\", toggle_train=False)\n",
    "\n",
    "o_win = 0\n",
    "x_win = 0\n",
    "draws = 0\n",
    "\n",
    "for i in range(n):\n",
    "    w = tictactoe.play(aio=aio, aix=aix, gui_on=False)\n",
    "    if w == 1:\n",
    "        x_win += 1\n",
    "    elif w == -1:\n",
    "        o_win += 1\n",
    "    elif w == -2:\n",
    "        draws += 1\n",
    "    else:\n",
    "        print('Error!')\n",
    "\n",
    "total = o_win + x_win + draws\n",
    "print(\"Wins, o (RL): {}%\".format(100*o_win/total))\n",
    "print(\"Wins, x (random): {}%\".format(100*x_win/total))\n",
    "print(\"Draws: {}%\".format(100*draws/total))"
   ]
  },
  {
   "cell_type": "markdown",
   "metadata": {},
   "source": [
    "### Train some more"
   ]
  },
  {
   "cell_type": "code",
   "execution_count": 18,
   "metadata": {},
   "outputs": [],
   "source": [
    "n = 5000\n",
    "\n",
    "tictactoe = TicTacToe(board_size=3, win_len=3)\n",
    "aio = RLttt(policy_file=\"policy_o\", toggle_train=True)\n",
    "aix = RLttt(policy_file=\"policy_x\", toggle_train=True)\n",
    "tictactoe.train(aio=aio, aix=aix, turns=n)"
   ]
  },
  {
   "cell_type": "code",
   "execution_count": 19,
   "metadata": {},
   "outputs": [
    {
     "name": "stdout",
     "output_type": "stream",
     "text": [
      "Wins, o (random): 38%\n",
      "Wins, x (RL): 46%\n",
      "Draws: 14%\n"
     ]
    }
   ],
   "source": [
    "n = 5000\n",
    "\n",
    "tictactoe = TicTacToe(board_size=3, win_len=3)\n",
    "aio = TRand()\n",
    "aix = RLttt(policy_file=\"policy_x\", toggle_train=False)\n",
    "\n",
    "o_win = 0\n",
    "x_win = 0\n",
    "draws = 0\n",
    "\n",
    "for i in range(n):\n",
    "    w = tictactoe.play(aio=aio, aix=aix, gui_on=False)\n",
    "    if w == 1:\n",
    "        x_win += 1\n",
    "    elif w == -1:\n",
    "        o_win += 1\n",
    "    elif w == -2:\n",
    "        draws += 1\n",
    "    else:\n",
    "        print('Error!')\n",
    "\n",
    "total = o_win + x_win + draws\n",
    "print(\"Wins, o (random): {}%\".format(100*o_win/total))\n",
    "print(\"Wins, x (RL): {}%\".format(100*x_win/total))\n",
    "print(\"Draws: {}%\".format(100*draws/total))"
   ]
  },
  {
   "cell_type": "code",
   "execution_count": 20,
   "metadata": {},
   "outputs": [
    {
     "name": "stdout",
     "output_type": "stream",
     "text": [
      "Wins, o (RL): 71%\n",
      "Wins, x (random): 16%\n",
      "Draws: 12%\n"
     ]
    }
   ],
   "source": [
    "n = 5000\n",
    "\n",
    "tictactoe = TicTacToe(board_size=3, win_len=3)\n",
    "aix = TRand()\n",
    "aio = RLttt(policy_file=\"policy_o\", toggle_train=False)\n",
    "\n",
    "o_win = 0\n",
    "x_win = 0\n",
    "draws = 0\n",
    "\n",
    "for i in range(n):\n",
    "    w = tictactoe.play(aio=aio, aix=aix, gui_on=False)\n",
    "    if w == 1:\n",
    "        x_win += 1\n",
    "    elif w == -1:\n",
    "        o_win += 1\n",
    "    elif w == -2:\n",
    "        draws += 1\n",
    "    else:\n",
    "        print('Error!')\n",
    "\n",
    "total = o_win + x_win + draws\n",
    "print(\"Wins, o (RL): {}%\".format(100*o_win/total))\n",
    "print(\"Wins, x (random): {}%\".format(100*x_win/total))\n",
    "print(\"Draws: {}%\".format(100*draws/total))"
   ]
  },
  {
   "cell_type": "code",
   "execution_count": null,
   "metadata": {},
   "outputs": [],
   "source": []
  }
 ],
 "metadata": {
  "kernelspec": {
   "display_name": "Python 3",
   "language": "python",
   "name": "python3"
  },
  "language_info": {
   "codemirror_mode": {
    "name": "ipython",
    "version": 2
   },
   "file_extension": ".py",
   "mimetype": "text/x-python",
   "name": "python",
   "nbconvert_exporter": "python",
   "pygments_lexer": "ipython2",
   "version": "2.7.15+"
  }
 },
 "nbformat": 4,
 "nbformat_minor": 2
}
